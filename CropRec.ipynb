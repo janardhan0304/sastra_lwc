{
  "cells": [
    {
      "cell_type": "code",
      "execution_count": 4,
      "metadata": {
        "id": "4Z8Vp961hICh"
      },
      "outputs": [],
      "source": [
        "import pandas as pd\n",
        "import numpy as np\n",
        "from sklearn.metrics import accuracy_score"
      ]
    },
    {
      "cell_type": "code",
      "execution_count": 5,
      "metadata": {
        "id": "vB4atoX_hMqA"
      },
      "outputs": [],
      "source": [
        "df = pd.read_csv('Crop_recommendation.csv')"
      ]
    },
    {
      "cell_type": "code",
      "execution_count": 6,
      "metadata": {
        "colab": {
          "base_uri": "https://localhost:8080/"
        },
        "id": "eRfBrgG3hdsm",
        "outputId": "87a64daf-5627-4bba-eaf1-f8259413f3aa"
      },
      "outputs": [
        {
          "data": {
            "text/plain": [
              "['apple',\n",
              " 'banana',\n",
              " 'blackgram',\n",
              " 'chickpea',\n",
              " 'coconut',\n",
              " 'coffee',\n",
              " 'cotton',\n",
              " 'grapes',\n",
              " 'jute',\n",
              " 'kidneybeans',\n",
              " 'lentil',\n",
              " 'maize',\n",
              " 'mango',\n",
              " 'mothbeans',\n",
              " 'mungbean',\n",
              " 'muskmelon',\n",
              " 'orange',\n",
              " 'papaya',\n",
              " 'pigeonpeas',\n",
              " 'pomegranate',\n",
              " 'rice',\n",
              " 'watermelon']"
            ]
          },
          "execution_count": 6,
          "metadata": {},
          "output_type": "execute_result"
        }
      ],
      "source": [
        "crops = list(df['label'].unique())\n",
        "crops.sort()\n",
        "crops"
      ]
    },
    {
      "cell_type": "code",
      "execution_count": 7,
      "metadata": {
        "id": "4M_Ew8c-h18U"
      },
      "outputs": [],
      "source": [
        "df['label'] = df['label'].apply(lambda x: crops.index(x))"
      ]
    },
    {
      "cell_type": "code",
      "execution_count": 8,
      "metadata": {
        "colab": {
          "base_uri": "https://localhost:8080/"
        },
        "id": "MWjNeCCQiAT4",
        "outputId": "6b07b47d-fc9d-4618-8f36-ba82ea2d340f"
      },
      "outputs": [
        {
          "name": "stdout",
          "output_type": "stream",
          "text": [
            "<class 'pandas.core.frame.DataFrame'>\n",
            "RangeIndex: 2200 entries, 0 to 2199\n",
            "Data columns (total 8 columns):\n",
            " #   Column       Non-Null Count  Dtype  \n",
            "---  ------       --------------  -----  \n",
            " 0   N            2200 non-null   int64  \n",
            " 1   P            2200 non-null   int64  \n",
            " 2   K            2200 non-null   int64  \n",
            " 3   temperature  2200 non-null   float64\n",
            " 4   humidity     2200 non-null   float64\n",
            " 5   ph           2200 non-null   float64\n",
            " 6   rainfall     2200 non-null   float64\n",
            " 7   label        2200 non-null   int64  \n",
            "dtypes: float64(4), int64(4)\n",
            "memory usage: 137.6 KB\n"
          ]
        }
      ],
      "source": [
        "df.info()"
      ]
    },
    {
      "cell_type": "code",
      "execution_count": 9,
      "metadata": {
        "id": "cXhHrOBgiGGI"
      },
      "outputs": [],
      "source": [
        "X = df.iloc[:,:-1]\n",
        "y = df.iloc[:,-1:]"
      ]
    },
    {
      "cell_type": "code",
      "execution_count": 10,
      "metadata": {
        "id": "mahwC6fZiQN0"
      },
      "outputs": [],
      "source": [
        "from sklearn.model_selection import train_test_split\n",
        "X_train, X_test, y_train, y_test = train_test_split(X, y, test_size=0.33,random_state=5)"
      ]
    },
    {
      "cell_type": "code",
      "execution_count": 11,
      "metadata": {
        "colab": {
          "base_uri": "https://localhost:8080/"
        },
        "id": "r_xWEPYYiSCA",
        "outputId": "a4203d4b-1551-488e-fbf5-892edb8dfc3b"
      },
      "outputs": [
        {
          "name": "stderr",
          "output_type": "stream",
          "text": [
            "/usr/local/lib/python3.8/dist-packages/sklearn/utils/validation.py:993: DataConversionWarning: A column-vector y was passed when a 1d array was expected. Please change the shape of y to (n_samples, ), for example using ravel().\n",
            "  y = column_or_1d(y, warn=True)\n"
          ]
        },
        {
          "data": {
            "text/plain": [
              "0.9972451790633609"
            ]
          },
          "execution_count": 11,
          "metadata": {},
          "output_type": "execute_result"
        }
      ],
      "source": [
        "from sklearn.naive_bayes import GaussianNB\n",
        "\n",
        "naive = GaussianNB()\n",
        "naive.fit(X_train,y_train)\n",
        "\n",
        "y_preds = naive.predict(X_test)\n",
        "\n",
        "accuracy_score(y_test,y_preds)"
      ]
    },
    {
      "cell_type": "code",
      "execution_count": 12,
      "metadata": {
        "colab": {
          "base_uri": "https://localhost:8080/"
        },
        "id": "EPMB5u-nibpf",
        "outputId": "a542c9b1-1077-4144-e647-7508c593ff9f"
      },
      "outputs": [
        {
          "name": "stderr",
          "output_type": "stream",
          "text": [
            "<ipython-input-12-f35f26c6ef34>:4: DataConversionWarning: A column-vector y was passed when a 1d array was expected. Please change the shape of y to (n_samples,), for example using ravel().\n",
            "  RFC.fit(X_train,y_train)\n"
          ]
        },
        {
          "data": {
            "text/plain": [
              "0.9958677685950413"
            ]
          },
          "execution_count": 12,
          "metadata": {},
          "output_type": "execute_result"
        }
      ],
      "source": [
        "from sklearn.ensemble import RandomForestClassifier\n",
        "\n",
        "RFC = RandomForestClassifier()\n",
        "RFC.fit(X_train,y_train)\n",
        "\n",
        "y_preds = RFC.predict(X_test)\n",
        "\n",
        "accuracy_score(y_test,y_preds)"
      ]
    },
    {
      "cell_type": "code",
      "execution_count": 13,
      "metadata": {
        "colab": {
          "base_uri": "https://localhost:8080/"
        },
        "id": "qtT6FOJ_ihDE",
        "outputId": "34d8604f-cf5d-4791-97de-4e36c2091f0c"
      },
      "outputs": [
        {
          "name": "stderr",
          "output_type": "stream",
          "text": [
            "/usr/local/lib/python3.8/dist-packages/sklearn/utils/validation.py:993: DataConversionWarning: A column-vector y was passed when a 1d array was expected. Please change the shape of y to (n_samples, ), for example using ravel().\n",
            "  y = column_or_1d(y, warn=True)\n",
            "/usr/local/lib/python3.8/dist-packages/sklearn/linear_model/_logistic.py:814: ConvergenceWarning: lbfgs failed to converge (status=1):\n",
            "STOP: TOTAL NO. of ITERATIONS REACHED LIMIT.\n",
            "\n",
            "Increase the number of iterations (max_iter) or scale the data as shown in:\n",
            "    https://scikit-learn.org/stable/modules/preprocessing.html\n",
            "Please also refer to the documentation for alternative solver options:\n",
            "    https://scikit-learn.org/stable/modules/linear_model.html#logistic-regression\n",
            "  n_iter_i = _check_optimize_result(\n"
          ]
        },
        {
          "data": {
            "text/plain": [
              "0.9573002754820936"
            ]
          },
          "execution_count": 13,
          "metadata": {},
          "output_type": "execute_result"
        }
      ],
      "source": [
        "from sklearn.linear_model import LogisticRegression\n",
        "\n",
        "lg = LogisticRegression()\n",
        "lg.fit(X_train,y_train)\n",
        "\n",
        "y_preds = lg.predict(X_test)\n",
        "\n",
        "accuracy_score(y_test,y_preds)"
      ]
    },
    {
      "cell_type": "code",
      "execution_count": 14,
      "metadata": {
        "id": "h7owWCksl6Px"
      },
      "outputs": [],
      "source": [
        "import pickle\n",
        "\n",
        "file = open('CropRec.pkl','wb')\n",
        "\n",
        "pickle.dump(RFC,file)"
      ]
    },
    {
      "cell_type": "code",
      "execution_count": 16,
      "metadata": {
        "id": "3aY8CXrhlNxG"
      },
      "outputs": [],
      "source": [
        "file = open('CropRec.pkl','rb')\n",
        "model = pickle.load(file)"
      ]
    },
    {
      "cell_type": "code",
      "execution_count": 24,
      "metadata": {
        "id": "6gUzbAAolrWx"
      },
      "outputs": [],
      "source": [
        "dictionary = {\n",
        "    'N':[93],\n",
        "    'P':[56],\n",
        "    'K':[36],\n",
        "    'temperature':[24.01],\n",
        "    'humidity':[82.05],\n",
        "    'ph':[6.9],\n",
        "    'rainfall':[209.5]\n",
        "}\n"
      ]
    },
    {
      "cell_type": "code",
      "execution_count": 28,
      "metadata": {
        "colab": {
          "base_uri": "https://localhost:8080/",
          "height": 36
        },
        "id": "WBxRI4SjmErK",
        "outputId": "e6671575-2967-4ff9-c510-53221689c357"
      },
      "outputs": [
        {
          "data": {
            "application/vnd.google.colaboratory.intrinsic+json": {
              "type": "string"
            },
            "text/plain": [
              "'rice'"
            ]
          },
          "execution_count": 28,
          "metadata": {},
          "output_type": "execute_result"
        }
      ],
      "source": [
        "t = pd.DataFrame(dictionary)\n",
        "ans = model.predict(t)\n",
        "crops[ans[0]]"
      ]
    }
  ],
  "metadata": {
    "colab": {
      "provenance": []
    },
    "kernelspec": {
      "display_name": "Python 3",
      "language": "python",
      "name": "python3"
    },
    "language_info": {
      "name": "python",
      "version": "3.10.6"
    },
    "vscode": {
      "interpreter": {
        "hash": "7eaa21c59d3426210a502c1f8ca950aebf444bfa58eb57b0dee1c2c94d2075ce"
      }
    }
  },
  "nbformat": 4,
  "nbformat_minor": 0
}
